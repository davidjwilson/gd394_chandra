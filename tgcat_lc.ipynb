{
 "cells": [
  {
   "cell_type": "code",
   "execution_count": 1,
   "id": "e9c4f5a8",
   "metadata": {},
   "outputs": [],
   "source": [
    "import numpy as np\n",
    "import matplotlib.pyplot as plt\n",
    "import astropy.io.fits as fits\n",
    "import os\n",
    "import glob\n",
    "from scipy.interpolate import interp1d\n",
    "from scipy.io.idl import readsav\n",
    "from astropy.table import Table\n",
    "from astropy.io import ascii\n",
    "import astropy.units as u\n",
    "from scipy.optimize import leastsq\n",
    "import astropy.constants as const\n",
    "from astropy.convolution import convolve, Box1DKernel\n",
    "from astropy.modeling import models, fitting\n",
    "\n",
    "\n",
    "#matplotlib set up\n",
    "%matplotlib inline\n",
    "from matplotlib import rcParams\n",
    "rcParams[\"figure.figsize\"] = (14, 5)\n",
    "rcParams[\"font.size\"] = 20"
   ]
  },
  {
   "cell_type": "markdown",
   "id": "5591291b",
   "metadata": {},
   "source": [
    "Looking at the tgcat data for GD394"
   ]
  },
  {
   "cell_type": "code",
   "execution_count": 21,
   "id": "b9ee33ac",
   "metadata": {},
   "outputs": [
    {
     "data": {
      "text/plain": [
       "['/media/david/1tb_storage1/emergency_data/gd394/chandra/tgcat/obs_21181_tgid_6072',\n",
       " '/media/david/1tb_storage1/emergency_data/gd394/chandra/tgcat/obs_22956_tgid_6070']"
      ]
     },
     "execution_count": 21,
     "metadata": {},
     "output_type": "execute_result"
    }
   ],
   "source": [
    "path = '/media/david/1tb_storage1/emergency_data/gd394/chandra/tgcat/'\n",
    "obs = glob.glob('{}obs*'.format(path))\n",
    "obs"
   ]
  },
  {
   "cell_type": "code",
   "execution_count": 5,
   "id": "9ae150ba",
   "metadata": {},
   "outputs": [],
   "source": [
    "# os.listdir(obs[0])"
   ]
  },
  {
   "cell_type": "code",
   "execution_count": 7,
   "id": "d2888fe7",
   "metadata": {},
   "outputs": [],
   "source": [
    "lc1 = fits.open('{}/lc'.format(obs[0]))"
   ]
  },
  {
   "cell_type": "code",
   "execution_count": 8,
   "id": "0bfad4e0",
   "metadata": {},
   "outputs": [
    {
     "name": "stdout",
     "output_type": "stream",
     "text": [
      "Filename: /media/david/1tb_storage1/emergency_data/gd394/chandra/tgcat/obs_21181_tgid_6072/lc\n",
      "No.    Name      Ver    Type      Cards   Dimensions   Format\n",
      "  0  PRIMARY       1 PrimaryHDU      29   ()      \n",
      "  1  LIGHTCURVE    1 BinTableHDU    305   52R x 10C   [1J, 1D, 1D, 1D, 1J, 1D, 1D, 1D, 1D, 1D]   \n",
      "  2  GTI           1 BinTableHDU     26   1R x 2C   [1D, 1D]   \n"
     ]
    }
   ],
   "source": [
    "lc1.info()"
   ]
  },
  {
   "cell_type": "code",
   "execution_count": 9,
   "id": "0b9e3cce",
   "metadata": {},
   "outputs": [],
   "source": [
    "data = lc1[1].data"
   ]
  },
  {
   "cell_type": "code",
   "execution_count": 10,
   "id": "e2dede2e",
   "metadata": {},
   "outputs": [
    {
     "data": {
      "text/plain": [
       "['TIME_BIN',\n",
       " 'TIME_MIN',\n",
       " 'TIME',\n",
       " 'TIME_MAX',\n",
       " 'COUNTS',\n",
       " 'STAT_ERR',\n",
       " 'AREA',\n",
       " 'EXPOSURE',\n",
       " 'COUNT_RATE',\n",
       " 'COUNT_RATE_ERR']"
      ]
     },
     "execution_count": 10,
     "metadata": {},
     "output_type": "execute_result"
    }
   ],
   "source": [
    "data.names"
   ]
  },
  {
   "cell_type": "code",
   "execution_count": 12,
   "id": "568f8286",
   "metadata": {},
   "outputs": [
    {
     "data": {
      "text/plain": [
       "<ErrorbarContainer object of 3 artists>"
      ]
     },
     "execution_count": 12,
     "metadata": {},
     "output_type": "execute_result"
    },
    {
     "data": {
      "image/png": "[encoded data removed]",
      "text/plain": [
       "<Figure size 1008x360 with 1 Axes>"
      ]
     },
     "metadata": {
      "needs_background": "light"
     },
     "output_type": "display_data"
    }
   ],
   "source": [
    "plt.errorbar(data['TIME'][1:-1], data['COUNT_RATE'][1:-1], yerr=data['COUNT_RATE_ERR'][1:-1], marker='o', ls='none')"
   ]
  },
  {
   "cell_type": "code",
   "execution_count": 13,
   "id": "f8eb4b60",
   "metadata": {},
   "outputs": [],
   "source": [
    "bg1 = fits.open('{}/lc_bg'.format(obs[0]))"
   ]
  },
  {
   "cell_type": "code",
   "execution_count": 14,
   "id": "bbf7b3fd",
   "metadata": {},
   "outputs": [],
   "source": [
    "bgdata = bg1[1].data"
   ]
  },
  {
   "cell_type": "code",
   "execution_count": 15,
   "id": "1bdd6e5e",
   "metadata": {},
   "outputs": [
    {
     "data": {
      "text/plain": [
       "['TIME_BIN',\n",
       " 'TIME_MIN',\n",
       " 'TIME',\n",
       " 'TIME_MAX',\n",
       " 'COUNTS',\n",
       " 'STAT_ERR',\n",
       " 'AREA',\n",
       " 'EXPOSURE',\n",
       " 'COUNT_RATE',\n",
       " 'COUNT_RATE_ERR']"
      ]
     },
     "execution_count": 15,
     "metadata": {},
     "output_type": "execute_result"
    }
   ],
   "source": [
    "bgdata.names"
   ]
  },
  {
   "cell_type": "code",
   "execution_count": 16,
   "id": "76cd7c4a",
   "metadata": {},
   "outputs": [
    {
     "data": {
      "text/plain": [
       "<ErrorbarContainer object of 3 artists>"
      ]
     },
     "execution_count": 16,
     "metadata": {},
     "output_type": "execute_result"
    },
    {
     "data": {
      "image/png": "[encoded data removed]",
      "text/plain": [
       "<Figure size 1008x360 with 1 Axes>"
      ]
     },
     "metadata": {
      "needs_background": "light"
     },
     "output_type": "display_data"
    }
   ],
   "source": [
    "plt.errorbar(bgdata['TIME'][1:-1], bgdata['COUNT_RATE'][1:-1], yerr=bgdata['COUNT_RATE_ERR'][1:-1], marker='o', ls='none')"
   ]
  },
  {
   "cell_type": "code",
   "execution_count": 17,
   "id": "f483cf2c",
   "metadata": {},
   "outputs": [
    {
     "data": {
      "text/plain": [
       "array([7.01498713e+08, 7.01499713e+08, 7.01500713e+08, 7.01501713e+08,\n",
       "       7.01502713e+08, 7.01503713e+08, 7.01504713e+08, 7.01505713e+08,\n",
       "       7.01506713e+08, 7.01507713e+08, 7.01508713e+08, 7.01509713e+08,\n",
       "       7.01510713e+08, 7.01511713e+08, 7.01512713e+08, 7.01513713e+08,\n",
       "       7.01514713e+08, 7.01515713e+08, 7.01516713e+08, 7.01517713e+08,\n",
       "       7.01518713e+08, 7.01519713e+08, 7.01520713e+08, 7.01521713e+08,\n",
       "       7.01522713e+08, 7.01523713e+08, 7.01524713e+08, 7.01525713e+08,\n",
       "       7.01526713e+08, 7.01527713e+08, 7.01528713e+08, 7.01529713e+08,\n",
       "       7.01530713e+08, 7.01531713e+08, 7.01532713e+08, 7.01533713e+08,\n",
       "       7.01534713e+08, 7.01535713e+08, 7.01536713e+08, 7.01537713e+08,\n",
       "       7.01538713e+08, 7.01539713e+08, 7.01540713e+08, 7.01541713e+08,\n",
       "       7.01542713e+08, 7.01543713e+08, 7.01544713e+08, 7.01545713e+08,\n",
       "       7.01546713e+08, 7.01547713e+08, 7.01548713e+08, 7.01549713e+08])"
      ]
     },
     "execution_count": 17,
     "metadata": {},
     "output_type": "execute_result"
    }
   ],
   "source": [
    "bgdata['TIME']"
   ]
  },
  {
   "cell_type": "code",
   "execution_count": 18,
   "id": "9231697e",
   "metadata": {},
   "outputs": [
    {
     "data": {
      "text/plain": [
       "array([7.01498713e+08, 7.01499713e+08, 7.01500713e+08, 7.01501713e+08,\n",
       "       7.01502713e+08, 7.01503713e+08, 7.01504713e+08, 7.01505713e+08,\n",
       "       7.01506713e+08, 7.01507713e+08, 7.01508713e+08, 7.01509713e+08,\n",
       "       7.01510713e+08, 7.01511713e+08, 7.01512713e+08, 7.01513713e+08,\n",
       "       7.01514713e+08, 7.01515713e+08, 7.01516713e+08, 7.01517713e+08,\n",
       "       7.01518713e+08, 7.01519713e+08, 7.01520713e+08, 7.01521713e+08,\n",
       "       7.01522713e+08, 7.01523713e+08, 7.01524713e+08, 7.01525713e+08,\n",
       "       7.01526713e+08, 7.01527713e+08, 7.01528713e+08, 7.01529713e+08,\n",
       "       7.01530713e+08, 7.01531713e+08, 7.01532713e+08, 7.01533713e+08,\n",
       "       7.01534713e+08, 7.01535713e+08, 7.01536713e+08, 7.01537713e+08,\n",
       "       7.01538713e+08, 7.01539713e+08, 7.01540713e+08, 7.01541713e+08,\n",
       "       7.01542713e+08, 7.01543713e+08, 7.01544713e+08, 7.01545713e+08,\n",
       "       7.01546713e+08, 7.01547713e+08, 7.01548713e+08, 7.01549713e+08])"
      ]
     },
     "execution_count": 18,
     "metadata": {},
     "output_type": "execute_result"
    }
   ],
   "source": [
    "data['TIME']"
   ]
  },
  {
   "cell_type": "code",
   "execution_count": 42,
   "id": "3491b9e5",
   "metadata": {},
   "outputs": [
    {
     "name": "stdout",
     "output_type": "stream",
     "text": [
      "[4.2949673e+09 4.2949673e+09 4.2949673e+09 4.2949673e+09 4.2949673e+09\n",
      " 4.2949673e+09 4.2949673e+09 4.2949673e+09 4.2949673e+09 4.2949673e+09\n",
      " 4.2949673e+09 4.2949673e+09 4.2949673e+09 4.2949673e+09 4.2949673e+09\n",
      " 4.2949673e+09 4.2949673e+09 4.2949673e+09 4.2949673e+09 4.2949673e+09\n",
      " 4.2949673e+09 4.2949673e+09 4.2949673e+09 4.2949673e+09 4.2949673e+09\n",
      " 4.2949673e+09 4.2949673e+09 4.2949673e+09 4.2949673e+09 4.2949673e+09\n",
      " 4.2949673e+09 4.2949673e+09 4.2949673e+09 4.2949673e+09 4.2949673e+09\n",
      " 4.2949673e+09 4.2949673e+09 4.2949673e+09 4.2949673e+09 4.2949673e+09\n",
      " 4.2949673e+09 4.2949673e+09 4.2949673e+09 4.2949673e+09 4.2949673e+09\n",
      " 4.2949673e+09 4.2949673e+09 4.2949673e+09 4.2949673e+09 4.2949673e+09\n",
      " 4.2949673e+09 4.2949673e+09]\n",
      "[4.2949673e+09 4.2949673e+09 4.2949673e+09 4.2949673e+09 4.2949673e+09\n",
      " 4.2949673e+09 4.2949673e+09 4.2949673e+09 4.2949673e+09 4.2949673e+09\n",
      " 4.2949673e+09 4.2949673e+09 4.2949673e+09 4.2949673e+09 4.2949673e+09\n",
      " 4.2949673e+09 4.2949673e+09 4.2949673e+09 4.2949673e+09 4.2949673e+09\n",
      " 4.2949673e+09 4.2949673e+09 4.2949673e+09 4.2949673e+09 4.2949673e+09\n",
      " 4.2949673e+09 4.2949673e+09 4.2949673e+09 4.2949673e+09 4.2949673e+09\n",
      " 4.2949673e+09 4.2949673e+09 4.2949673e+09 4.2949673e+09 4.2949673e+09\n",
      " 4.2949673e+09 4.2949673e+09 4.2949673e+09 4.2949673e+09 4.2949673e+09\n",
      " 4.2949673e+09 4.2949673e+09 4.2949673e+09 4.2949673e+09 4.2949673e+09\n",
      " 4.2949673e+09 4.2949673e+09 4.2949673e+09 4.2949673e+09 4.2949673e+09\n",
      " 4.2949673e+09 4.2949673e+09]\n"
     ]
    },
    {
     "data": {
      "image/png": "[encoded data removed]",
      "text/plain": [
       "<Figure size 1008x360 with 1 Axes>"
      ]
     },
     "metadata": {
      "needs_background": "light"
     },
     "output_type": "display_data"
    },
    {
     "name": "stdout",
     "output_type": "stream",
     "text": [
      "[4.2949673e+09 4.2949673e+09 4.2949673e+09 4.2949673e+09 4.2949673e+09\n",
      " 4.2949673e+09 4.2949673e+09 4.2949673e+09 4.2949673e+09 4.2949673e+09\n",
      " 4.2949673e+09 4.2949673e+09 4.2949673e+09 4.2949673e+09 4.2949673e+09\n",
      " 4.2949673e+09 4.2949673e+09 4.2949673e+09 4.2949673e+09 4.2949673e+09\n",
      " 4.2949673e+09 4.2949673e+09 4.2949673e+09 4.2949673e+09 4.2949673e+09\n",
      " 4.2949673e+09 4.2949673e+09 4.2949673e+09 4.2949673e+09 4.2949673e+09\n",
      " 4.2949673e+09 4.2949673e+09 4.2949673e+09 4.2949673e+09 4.2949673e+09\n",
      " 4.2949673e+09 4.2949673e+09 4.2949673e+09 4.2949673e+09 4.2949673e+09\n",
      " 4.2949673e+09 4.2949673e+09 4.2949673e+09 4.2949673e+09 4.2949673e+09\n",
      " 4.2949673e+09 4.2949673e+09 4.2949673e+09 4.2949673e+09 4.2949673e+09\n",
      " 4.2949673e+09 4.2949673e+09 4.2949673e+09 4.2949673e+09 4.2949673e+09\n",
      " 4.2949673e+09 4.2949673e+09 4.2949673e+09 4.2949673e+09 4.2949673e+09\n",
      " 4.2949673e+09 4.2949673e+09]\n",
      "[4.2949673e+09 4.2949673e+09 4.2949673e+09 4.2949673e+09 4.2949673e+09\n",
      " 4.2949673e+09 4.2949673e+09 4.2949673e+09 4.2949673e+09 4.2949673e+09\n",
      " 4.2949673e+09 4.2949673e+09 4.2949673e+09 4.2949673e+09 4.2949673e+09\n",
      " 4.2949673e+09 4.2949673e+09 4.2949673e+09 4.2949673e+09 4.2949673e+09\n",
      " 4.2949673e+09 4.2949673e+09 4.2949673e+09 4.2949673e+09 4.2949673e+09\n",
      " 4.2949673e+09 4.2949673e+09 4.2949673e+09 4.2949673e+09 4.2949673e+09\n",
      " 4.2949673e+09 4.2949673e+09 4.2949673e+09 4.2949673e+09 4.2949673e+09\n",
      " 4.2949673e+09 4.2949673e+09 4.2949673e+09 4.2949673e+09 4.2949673e+09\n",
      " 4.2949673e+09 4.2949673e+09 4.2949673e+09 4.2949673e+09 4.2949673e+09\n",
      " 4.2949673e+09 4.2949673e+09 4.2949673e+09 4.2949673e+09 4.2949673e+09\n",
      " 4.2949673e+09 4.2949673e+09 4.2949673e+09 4.2949673e+09 4.2949673e+09\n",
      " 4.2949673e+09 4.2949673e+09 4.2949673e+09 4.2949673e+09 4.2949673e+09\n",
      " 4.2949673e+09 4.2949673e+09]\n"
     ]
    },
    {
     "data": {
      "image/png": "[encoded data removed]",
      "text/plain": [
       "<Figure size 1008x360 with 1 Axes>"
      ]
     },
     "metadata": {
      "needs_background": "light"
     },
     "output_type": "display_data"
    }
   ],
   "source": [
    "time = np.array([], dtype=float)\n",
    "counts = np.array([], dtype=float)\n",
    "error = np.array([], dtype=float)\n",
    "for ob in obs:\n",
    "    lc = fits.getdata('{}/lc'.format(ob), 1)   \n",
    "    bg = fits.getdata('{}/lc_bg'.format(ob), 1)\n",
    "#     print(lc['AREA'])\n",
    "#     print(bg['AREA'])\n",
    "    t, c, ce, bgc, bgce = lc['TIME'], lc['COUNT_RATE'], lc['COUNT_RATE_ERR'], bg['COUNT_RATE']/10, bg['COUNT_RATE_ERR']/10\n",
    "    nc = c-bgc\n",
    "    ne = (ce**2+bgce**2)\n",
    "    plt.errorbar(t, nc, yerr=ne, marker='o', ls='none')\n",
    "    time = np.concatenate((time, t[1:-1]))\n",
    "    counts = np.concatenate((counts, nc[1:-1]))\n",
    "    error = np.concatenate((error, ne[1:-1]))\n",
    "    plt.show()"
   ]
  },
  {
   "cell_type": "code",
   "execution_count": 43,
   "id": "9d5e572e",
   "metadata": {},
   "outputs": [
    {
     "data": {
      "text/plain": [
       "XTENSION= 'BINTABLE'           / binary table extension                         \n",
       "BITPIX  =                    8 / 8-bit bytes                                    \n",
       "NAXIS   =                    2 / 2-dimensional binary table                     \n",
       "NAXIS1  =                   72 / width of table in bytes                        \n",
       "NAXIS2  =                   52 / number of rows in table                        \n",
       "PCOUNT  =                    0 / size of special data area                      \n",
       "GCOUNT  =                    1 / one data group (required keyword)              \n",
       "TFIELDS =                   10 / number of fields in each row                   \n",
       "EXTNAME = 'LIGHTCURVE'         / name of this binary table extension            \n",
       "HDUNAME = 'LIGHTCURVE'         / ASCDM block name                               \n",
       "ORIGIN  = 'ASC     '           / Source of FITS file                            \n",
       "CREATOR = 'dmextract - Version CIAO 4.12' / tool that created this output       \n",
       "ASCDSVER= 'CIAO 4.12'          / ASCDS version number                           \n",
       "OBSERVER= 'Dr David Wilson'    / Principal investigator                         \n",
       "OBJECT  = 'Gd 394  '           / Source name                                    \n",
       "DS_IDENT= 'ADS/Sa.CXO#obs/21181' / Dataset Identifier: DOI                      \n",
       "REVISION=                    1 / Processing version of data                     \n",
       "CHECKSUM= 'NE4bOE2aNE2aNE2a'   / HDU checksum updated 2021-04-01T01:40:40       \n",
       "DATASUM = '2946871689'         / data unit checksum updated 2021-04-01T01:40:39 \n",
       "RAND_TG =  0.0000000000000E+00 / pixel randomization width                      \n",
       "RAND_SKY=  0.0000000000000E+00 / pixel randomization                            \n",
       "DATE    = '2021-04-01T01:40:39' / Date and time of file creation                \n",
       "DATE-OBS= '2020-03-25T04:36:53' / Observation start date                        \n",
       "MJD-OBS =  5.8933192283663E+04 / Modified Julian date of observation            \n",
       "DATACLAS= 'OBSERVED'           / default                                        \n",
       "RADESYS = 'ICRS    '           / default                                        \n",
       "DATE-END= '2020-03-25T19:01:59' / Observation end date                          \n",
       "TIMESYS = 'TT      '           / Time system                                    \n",
       "MJDREF  =  5.0814000000000E+04 / [d] MJD zero point for times                   \n",
       "TIMEZERO=  0.0000000000000E+00 / [s] Clock correction                           \n",
       "TIMEUNIT= 's       '           / Time unit                                      \n",
       "BTIMNULL=  6.9872704415303E+08 / Basic Time offset (s)                          \n",
       "BTIMRATE=  2.5625001551207E-01 / Basic Time clock rate (s/VCDUcount)            \n",
       "BTIMDRFT=  2.7000948770638E-18 / Basic Time clock drift (s/VCDUcount^2)         \n",
       "BTIMCORR=  0.0000000000000E+00 / Correction applied to basic time rate (s)      \n",
       "TIMEREF = 'LOCAL   '           / Time reference (barycenter/local)              \n",
       "TASSIGN = 'SATELLITE'          / Time assigned by clock                         \n",
       "CLOCKAPP=                    T / Clock correction applied                       \n",
       "TIERRELA=  1.0000000000000E-09 / Short-term clock stability                     \n",
       "TIERABSO=  5.0000000000000E-05 / Absolute precision of clock correction         \n",
       "TIMVERSN= 'ASC-FITS-2'         / Timing system definition                       \n",
       "TSTART  =  7.0149821330844E+08 / [s] Observation start time (MET)               \n",
       "TSTOP   =  7.0155011931159E+08 / [s] Observation end time (MET)                 \n",
       "STARTMJF=                84486 / Major frame ctr value at start of data         \n",
       "OBS_MODE= 'POINTING'           / Observation mode                               \n",
       "STARTMNF=                  120 / Start minor frame ctr at start of data         \n",
       "STARTOBT=  0.0000000000000E+00 / On-Board MET close to STARTMJF and STARTMNF    \n",
       "STOPMJF =                84675 / Major frame ctr value at stop of data          \n",
       "STOPMNF =                   40 / Stop minor frame ctr at end of data            \n",
       "TIMEPIXR=  5.0000000000000E-01 / TIME column middle of bin                      \n",
       "TIMEDEL =  1.0000000000000E+03 / [s] Delta-T between time records               \n",
       "MISSION = 'AXAF    '           / Mission                                        \n",
       "TELESCOP= 'CHANDRA '           / Telescope                                      \n",
       "INSTRUME= 'HRC     '           / Instrument                                     \n",
       "SIM_X   = -1.4281808131318E+00 / [mm] SIM focus pos                             \n",
       "SIM_Y   =  0.0000000000000E+00 / [mm] SIM orthogonal axis pos                   \n",
       "SIM_Z   =  2.5046603308020E+02 / [mm] SIM translation stage pos                 \n",
       "FOC_LEN =  1.0070000000000E+04 / [mm] HRMA focal length                         \n",
       "DETNAM  = 'HRC-S   '           / Detector                                       \n",
       "GRATING = 'LETG    '           / Grating                                        \n",
       "OBS_ID  = '21181   '           / Observation id                                 \n",
       "RA_PNT  =  3.1818593965800E+02 / [deg] Pointing RA                              \n",
       "DEC_PNT =  5.0105625171900E+01 / [deg] Pointing Dec                             \n",
       "ROLL_PNT=  5.4814516122900E+01 / [deg] Pointing Roll                            \n",
       "RA_TARG =  3.1818333300000E+02 / [deg] Observer's specified target RA           \n",
       "DEC_TARG=  5.0104972000000E+01 / [deg] Observer's specified target Dec          \n",
       "DEFOCUS =  1.0515582627252E-01 / [mm] SIM defocus                               \n",
       "RA_NOM  =  3.1818593965800E+02 / [deg] Nominal RA                               \n",
       "DEC_NOM =  5.0105625171900E+01 / [deg] Nominal Dec                              \n",
       "ROLL_NOM=  5.4814516122900E+01 / [deg] Nominal Roll                             \n",
       "DATAMODE= 'OBSERVING'          / Data mode                                      \n",
       "OBI_NUM =                    0 / Obi number                                     \n",
       "SEQ_NUM = '201235  '           / Sequence number                                \n",
       "LONGSTRN= 'OGIP 1.0'           / The HEASARC Long String Convention may be used.\n",
       "COMMENT   This FITS file may contain long string keyword values that are        \n",
       "COMMENT   continued over multiple keywords.  The HEASARC convention uses the &  \n",
       "COMMENT   character at the end of each substring which is then continued        \n",
       "COMMENT   on the next keyword which has the name CONTINUE.                      \n",
       "TITLE   = 'Characterising the soft X-ray activity of the metal-rich white dwar&'\n",
       "CONTINUE  'f GD 394'           / Proposal title                                 \n",
       "AREASCAL=  1.0000000000000E+00 / [pixel] Fractional area                        \n",
       "CORRSCAL=  0.0000000000000E+00 / [pixel] Fractional area                        \n",
       "BACKSCAL=  1.0000000000000E+01 / [pixel] Fractional area                        \n",
       "DETCHANS=                   52 / Number of channels                             \n",
       "TOTCTS  =              1455245 / [count] Total counts                           \n",
       "POISSERR=                    F / Assumed Poisson errs                           \n",
       "SYS_ERR =  0.0000000000000E+00 / Systematic errors                              \n",
       "QUALITY =                    0 / Quality flag                                   \n",
       "GROUPING=                    0 / Grouping flag                                  \n",
       "HISTNUM =                   30                                                  \n",
       "ASPTYPE = 'KALMAN  '                                                            \n",
       "ONTIME  =  4.9877784275174E+04 / [s]                                            \n",
       "DTCOR   =  9.8941592366163E-01 / Dead time correction                           \n",
       "LIVETIME=  4.9349873998817E+04 / Ontime multiplied by DTCOR                     \n",
       "EXPOSURE=  4.9349873998817E+04 / Total exposure time, with all known corr. appl.\n",
       "DY_AVG  =                    0 / [mm] Mean DY during observation                \n",
       "DZ_AVG  =                    0 / [mm] Mean DZ during observation                \n",
       "DTH_AVG =                    0 / [deg] Mean DTHETA during observation           \n",
       "CONTENT = 'LIGHTCURVE'         / OGIP Lightcurve file                           \n",
       "HDUCLASS= 'OGIP    '           / format conforms to OGIP/GSFC standards         \n",
       "HDUCLAS1= 'LIGHTCURVE'         / Extension contains a lightcurve                \n",
       "HDUCLAS2= 'TOTAL   '           / Total counts                                   \n",
       "HDUCLAS3= 'RATE    '           / Spectrum total counts                          \n",
       "HISTORY dmextract binning: File EVENTS Col time Binning 7.01498e+08:7.0155e+08:1\n",
       "HISTORY 000                                                                     \n",
       "HISTORY  TOOL  :dmextract   2021-04-01T01:40:39                         ASC00001\n",
       "HISTORY  PARM  :infile=evt2[tg_part=3,tg_m=-1,1,(tg_r,tg_d)=region(/nfs/ASC00002\n",
       "HISTORY  CONT  :mkx/a1/linux-x86_64/opt/packages/ciao-4.12/CALDB/data/chASC00003\n",
       "HISTORY  CONT  :andra/hrc/tgmask2/letgD1999-07-22regN0002.fits[tg_srcid=ASC00004\n",
       "HISTORY  CONT  :1,tg_part=3,tg_m=-1,1,rowid=BACKGROUND_UP,BACKGROUND_DOWASC00005\n",
       "HISTORY  CONT  :N])][bin time=::1000.0]                                 ASC00006\n",
       "HISTORY  PARM  :outfile=lc_bg                                           ASC00007\n",
       "HISTORY  PARM  :bkg=                                                    ASC00008\n",
       "HISTORY  PARM  :error=gaussian                                          ASC00009\n",
       "HISTORY  PARM  :bkgerror=gaussian                                       ASC00010\n",
       "HISTORY  PARM  :bkgnorm=1                                               ASC00011\n",
       "HISTORY  PARM  :exp=                                                    ASC00012\n",
       "HISTORY  PARM  :bkgexp=                                                 ASC00013\n",
       "HISTORY  PARM  :sys_err=0                                               ASC00014\n",
       "HISTORY  PARM  :opt=ltc1                                                ASC00015\n",
       "HISTORY  PARM  :defaults=/nfs/mkx/a1/linux-x86_64/opt/packages/ciao-4.12ASC00016\n",
       "HISTORY  CONT  :/data/cxo.mdb                                           ASC00017\n",
       "HISTORY  PARM  :wmap=                                                   ASC00018\n",
       "HISTORY  PARM  :clobber=yes                                             ASC00019\n",
       "HISTORY  PARM  :verbose=0                                               ASC00020\n",
       "TTYPE1  = 'TIME_BIN'           / time tag of data record                        \n",
       "TFORM1  = '1J      '           / format of field                                \n",
       "TUNIT1  = 'channel '                                                            \n",
       "TTYPE2  = 'TIME_MIN'           / Minimum Value in Bin                           \n",
       "TFORM2  = '1D      '           / format of field                                \n",
       "TUNIT2  = 's       '                                                            \n",
       "TTYPE3  = 'TIME    '           / time tag of data record                        \n",
       "TFORM3  = '1D      '           / format of field                                \n",
       "TUNIT3  = 's       '                                                            \n",
       "TTYPE4  = 'TIME_MAX'           / Maximum Value in Bin                           \n",
       "TFORM4  = '1D      '           / format of field                                \n",
       "TUNIT4  = 's       '                                                            \n",
       "TTYPE5  = 'COUNTS  '           / Counts                                         \n",
       "TFORM5  = '1J      '           / format of field                                \n",
       "TUNIT5  = 'count   '                                                            \n",
       "TTYPE6  = 'STAT_ERR'           / Statistical error                              \n",
       "TFORM6  = '1D      '           / format of field                                \n",
       "TUNIT6  = 'count   '                                                            \n",
       "TTYPE7  = 'AREA    '           / Area of extraction                             \n",
       "TFORM7  = '1D      '           / format of field                                \n",
       "TUNIT7  = 'pixel**2'                                                            \n",
       "TTYPE8  = 'EXPOSURE'           / Time per interval                              \n",
       "TFORM8  = '1D      '           / format of field                                \n",
       "TUNIT8  = 's       '                                                            \n",
       "TTYPE9  = 'COUNT_RATE'         / Rate                                           \n",
       "TFORM9  = '1D      '           / format of field                                \n",
       "TUNIT9  = 'count/s '                                                            \n",
       "TTYPE10 = 'COUNT_RATE_ERR'     / Rate Error                                     \n",
       "TFORM10 = '1D      '           / format of field                                \n",
       "TUNIT10 = 'count/s '                                                            \n",
       "TLMIN1  =                    1                                                  \n",
       "TLMAX1  =                   52                                                  \n",
       "TLMIN6  =  0.0000000000000E+00                                                  \n",
       "TLMIN9  =  0.0000000000000E+00                                                  \n",
       "TLMIN10 =  0.0000000000000E+00                                                  \n",
       "TLMIN2  =  7.0149821330844E+08                                                  \n",
       "TLMAX2  =  7.0155011931159E+08                                                  \n",
       "TLMIN4  =  7.0149821330844E+08                                                  \n",
       "TLMAX4  =  7.0155011931159E+08                                                  \n",
       "DSTYP1  = 'TIME    '           / DM Keyword: Descriptor name.                   \n",
       "DSVAL1  = 'TABLE   '           / [s]                                            \n",
       "DSFORM1 = 'D       '           / DM Keyword: Descriptor datatype.               \n",
       "DSUNIT1 = 's       '           / DM Keyword: Descriptor unit.                   \n",
       "DSREF1  = ':GTI    '                                                            \n",
       "DSTYP2  = 'crsu    '           / DM Keyword: Descriptor name.                   \n",
       "DSVAL2  = '0:15    '           / DM Keyword: Descriptor value.                  \n",
       "DSFORM2 = 'I       '           / DM Keyword: Descriptor datatype.               \n",
       "DSTYP3  = 'crsv    '           / DM Keyword: Descriptor name.                   \n",
       "DSVAL3  = '0:191   '           / DM Keyword: Descriptor value.                  \n",
       "DSFORM3 = 'I       '           / DM Keyword: Descriptor datatype.               \n",
       "DSTYP4  = 'amp_sf  '           / DM Keyword: Descriptor name.                   \n",
       "DSVAL4  = '0:3     '           / DM Keyword: Descriptor value.                  \n",
       "DSFORM4 = 'I       '           / DM Keyword: Descriptor datatype.               \n",
       "DSTYP5  = 'rawx    '           / DM Keyword: Descriptor name.                   \n",
       "DSVAL5  = '0:4095  '           / [pixel]                                        \n",
       "DSFORM5 = 'J       '           / DM Keyword: Descriptor datatype.               \n",
       "DSUNIT5 = 'pixel   '           / DM Keyword: Descriptor unit.                   \n",
       "DSTYP6  = 'rawy    '           / DM Keyword: Descriptor name.                   \n",
       "DSVAL6  = '0:16383,17070:32200,32980:49151' / [pixel]                           \n",
       "DSFORM6 = 'J       '           / DM Keyword: Descriptor datatype.               \n",
       "DSUNIT6 = 'pixel   '           / DM Keyword: Descriptor unit.                   \n",
       "DSTYP7  = 'samp    '           / DM Keyword: Descriptor name.                   \n",
       "DSVAL7  = '0:768   '           / DM Keyword: Descriptor value.                  \n",
       "DSFORM7 = 'E       '           / DM Keyword: Descriptor datatype.               \n",
       "DSTYP8  = 'rd(tg_r,tg_d)'      / DM Keyword: Descriptor name.                   \n",
       "DSVAL8  = 'Polygon(-0.0057804,0.00731,-0.29867,0.00731,-1.1549,0.02314,-1.1549&'\n",
       "CONTINUE  ',0.002,-0.29867,0.002,-0.0057804,0.002,-0.0057804,0.00731)|Polygon(&'\n",
       "CONTINUE  '-0.0057804,-0.00731,-0.29867,-0.00731,-1.1549,-0.02314,-1.1549,-0.0&'\n",
       "CONTINUE  '02,-0.29867,-0.002,-0.0057804,-0.002,-0.0057804,-0.00731)|Polygon(0&'\n",
       "CONTINUE  '.0057804,0.00731,0.29867,0.00731,1.1549,0.02314,1.1549,0.002,0.2986&'\n",
       "CONTINUE  '7,0.002,0.0057804,0.002,0.0057804,0.00731)|Polygon(0.0057804,-0.007&'\n",
       "CONTINUE  '31,0.29867,-0.00731,1.1549,-0.02314,1.1549,-0.002,0.29867,-0.002,0.&'\n",
       "CONTINUE  '0057804,-0.002,0.0057804,-0.00731)' / [deg]                          \n",
       "DSFORM8 = 'E       '           / DM Keyword: Descriptor datatype.               \n",
       "DSUNIT8 = 'deg     '           / DM Keyword: Descriptor unit.                   \n",
       "DSTYP9  = 'chipx   '           / DM Keyword: Descriptor name.                   \n",
       "DSVAL9  = '1:4096  '           / [pixel]                                        \n",
       "DSFORM9 = 'I       '           / DM Keyword: Descriptor datatype.               \n",
       "DSUNIT9 = 'pixel   '           / DM Keyword: Descriptor unit.                   \n",
       "DSTYP10 = 'chipy   '           / DM Keyword: Descriptor name.                   \n",
       "DSVAL10 = '1:16456 '           / [pixel]                                        \n",
       "DSFORM10= 'I       '           / DM Keyword: Descriptor datatype.               \n",
       "DSUNIT10= 'pixel   '           / DM Keyword: Descriptor unit.                   \n",
       "DSTYP11 = 'tdetx   '           / DM Keyword: Descriptor name.                   \n",
       "DSVAL11 = '1:4096  '           / [pixel]                                        \n",
       "DSFORM11= 'J       '           / DM Keyword: Descriptor datatype.               \n",
       "DSUNIT11= 'pixel   '           / DM Keyword: Descriptor unit.                   \n",
       "DSTYP12 = 'tdety   '           / DM Keyword: Descriptor name.                   \n",
       "DSVAL12 = '1:49368 '           / [pixel]                                        \n",
       "DSFORM12= 'J       '           / DM Keyword: Descriptor datatype.               \n",
       "DSUNIT12= 'pixel   '           / DM Keyword: Descriptor unit.                   \n",
       "DSTYP13 = 'detx    '           / DM Keyword: Descriptor name.                   \n",
       "DSVAL13 = '0.5:65536.5'        / [pixel]                                        \n",
       "DSFORM13= 'E       '           / DM Keyword: Descriptor datatype.               \n",
       "DSUNIT13= 'pixel   '           / DM Keyword: Descriptor unit.                   \n",
       "DSTYP14 = 'dety    '           / DM Keyword: Descriptor name.                   \n",
       "DSVAL14 = '0.5:65536.5'        / [pixel]                                        \n",
       "DSFORM14= 'E       '           / DM Keyword: Descriptor datatype.               \n",
       "DSUNIT14= 'pixel   '           / DM Keyword: Descriptor unit.                   \n",
       "DSTYP15 = 'x       '           / DM Keyword: Descriptor name.                   \n",
       "DSVAL15 = '0.5:65536.5'        / [pixel]                                        \n",
       "DSFORM15= 'E       '           / DM Keyword: Descriptor datatype.               \n",
       "DSUNIT15= 'pixel   '           / DM Keyword: Descriptor unit.                   \n",
       "DSTYP16 = 'y       '           / DM Keyword: Descriptor name.                   \n",
       "DSVAL16 = '0.5:65536.5'        / [pixel]                                        \n",
       "DSFORM16= 'E       '           / DM Keyword: Descriptor datatype.               \n",
       "DSUNIT16= 'pixel   '           / DM Keyword: Descriptor unit.                   \n",
       "DSTYP17 = 'chip_id '           / DM Keyword: Descriptor name.                   \n",
       "DSVAL17 = '1:3     '           / DM Keyword: Descriptor value.                  \n",
       "DSFORM17= 'I       '           / DM Keyword: Descriptor datatype.               \n",
       "DSTYP18 = 'pha     '           / DM Keyword: Descriptor name.                   \n",
       "DSVAL18 = '0:255   '           / [chan]                                         \n",
       "DSFORM18= 'I       '           / DM Keyword: Descriptor datatype.               \n",
       "DSUNIT18= 'chan    '           / DM Keyword: Descriptor unit.                   \n",
       "DSTYP19 = 'pi      '           / DM Keyword: Descriptor name.                   \n",
       "DSVAL19 = '0:1023  '           / [chan]                                         \n",
       "DSFORM19= 'I       '           / DM Keyword: Descriptor datatype.               \n",
       "DSUNIT19= 'chan    '           / DM Keyword: Descriptor unit.                   \n",
       "DSTYP20 = 'tg_m    '           / DM Keyword: Descriptor name.                   \n",
       "DSVAL20 = '-1:-1,1:1'          / DM Keyword: Descriptor value.                  \n",
       "DSFORM20= 'I       '           / DM Keyword: Descriptor datatype.               \n",
       "DSTYP21 = 'tg_lam  '           / DM Keyword: Descriptor name.                   \n",
       "DSVAL21 = '0:400   '           / [angstrom]                                     \n",
       "DSFORM21= 'E       '           / DM Keyword: Descriptor datatype.               \n",
       "DSUNIT21= 'angstrom'           / DM Keyword: Descriptor unit.                   \n",
       "DSTYP22 = 'tg_mlam '           / DM Keyword: Descriptor name.                   \n",
       "DSVAL22 = '-400:400'           / [angstrom]                                     \n",
       "DSFORM22= 'E       '           / DM Keyword: Descriptor datatype.               \n",
       "DSUNIT22= 'angstrom'           / DM Keyword: Descriptor unit.                   \n",
       "DSTYP23 = 'tg_srcid'           / DM Keyword: Descriptor name.                   \n",
       "DSVAL23 = '0:      '           / DM Keyword: Descriptor value.                  \n",
       "DSFORM23= 'I       '           / DM Keyword: Descriptor datatype.               \n",
       "DSTYP24 = 'tg_part '           / DM Keyword: Descriptor name.                   \n",
       "DSVAL24 = '3:3     '           / DM Keyword: Descriptor value.                  \n",
       "DSFORM24= 'I       '           / DM Keyword: Descriptor datatype.               \n",
       "DSTYP25 = 'tg_smap '           / DM Keyword: Descriptor name.                   \n",
       "DSVAL25 = '0:      '           / DM Keyword: Descriptor value.                  \n",
       "DSFORM25= 'I       '           / DM Keyword: Descriptor datatype.               \n",
       "DSTYP26 = 'av1     '           / DM Keyword: Descriptor name.                   \n",
       "DSVAL26 = '0:4095  '           / DM Keyword: Descriptor value.                  \n",
       "DSFORM26= 'I       '           / DM Keyword: Descriptor datatype.               \n",
       "DSTYP27 = 'av2     '           / DM Keyword: Descriptor name.                   \n",
       "DSVAL27 = '0:4095  '           / DM Keyword: Descriptor value.                  \n",
       "DSFORM27= 'I       '           / DM Keyword: Descriptor datatype.               \n",
       "DSTYP28 = 'av3     '           / DM Keyword: Descriptor name.                   \n",
       "DSVAL28 = '0:4095  '           / DM Keyword: Descriptor value.                  \n",
       "DSFORM28= 'I       '           / DM Keyword: Descriptor datatype.               \n",
       "DSTYP29 = 'au1     '           / DM Keyword: Descriptor name.                   \n",
       "DSVAL29 = '0:4095  '           / DM Keyword: Descriptor value.                  \n",
       "DSFORM29= 'I       '           / DM Keyword: Descriptor datatype.               \n",
       "DSTYP30 = 'au2     '           / DM Keyword: Descriptor name.                   \n",
       "DSVAL30 = '0:4095  '           / DM Keyword: Descriptor value.                  \n",
       "DSFORM30= 'I       '           / DM Keyword: Descriptor datatype.               \n",
       "DSTYP31 = 'au3     '           / DM Keyword: Descriptor name.                   \n",
       "DSVAL31 = '0:4095  '           / DM Keyword: Descriptor value.                  \n",
       "DSFORM31= 'I       '           / DM Keyword: Descriptor datatype.               \n",
       "DSTYP32 = 'sumamps '           / DM Keyword: Descriptor name.                   \n",
       "DSVAL32 = '0:24570 '           / DM Keyword: Descriptor value.                  \n",
       "DSFORM32= 'I       '           / DM Keyword: Descriptor datatype.               \n",
       "DSTYP33 = 'MJF     '           / DM Keyword: Descriptor name.                   \n",
       "DSVAL33 = '0:131071'           / DM Keyword: Descriptor value.                  \n",
       "DSFORM33= 'J       '           / DM Keyword: Descriptor datatype.               \n",
       "DSTYP34 = 'MNF     '           / DM Keyword: Descriptor name.                   \n",
       "DSVAL34 = '0:127   '           / DM Keyword: Descriptor value.                  \n",
       "DSFORM34= 'J       '           / DM Keyword: Descriptor datatype.               \n",
       "DSTYP35 = 'ENDMNF  '           / DM Keyword: Descriptor name.                   \n",
       "DSVAL35 = '0:127   '           / DM Keyword: Descriptor value.                  \n",
       "DSFORM35= 'J       '           / DM Keyword: Descriptor datatype.               \n",
       "DSTYP36 = 'SUB_MJF '           / DM Keyword: Descriptor name.                   \n",
       "DSVAL36 = ':7      '           / DM Keyword: Descriptor value.                  \n",
       "DSFORM36= 'B       '           / DM Keyword: Descriptor datatype.               \n",
       "DSTYP37 = 'CLKTICKS'           / DM Keyword: Descriptor name.                   \n",
       "DSVAL37 = '0:262143'           / DM Keyword: Descriptor value.                  \n",
       "DSFORM37= 'J       '           / DM Keyword: Descriptor datatype.               \n",
       "TCTYP2  = 'DT_MIN  '                                                            \n",
       "TCRVL2  =  0.0000000000000E+00                                                  \n",
       "TCRPX2  =  7.0149871330844E+08                                                  \n",
       "TCDLT2  =  1.0000000000000E+00                                                  \n",
       "TCUNI2  = 's       '                                                            \n",
       "TCTYP3  = 'DT      '                                                            \n",
       "TCRVL3  =  0.0000000000000E+00                                                  \n",
       "TCRPX3  =  7.0149871330844E+08                                                  \n",
       "TCDLT3  =  1.0000000000000E+00                                                  \n",
       "TCUNI3  = 's       '                                                            \n",
       "TCTYP4  = 'DT_MAX  '                                                            \n",
       "TCRVL4  =  0.0000000000000E+00                                                  \n",
       "TCRPX4  =  7.0149871330844E+08                                                  \n",
       "TCDLT4  =  1.0000000000000E+00                                                  \n",
       "TCUNI4  = 's       '                                                            \n",
       "HISTORY  TOOL  :dmhedit   2021-04-01T01:40:40                           ASC00021\n",
       "HISTORY  PARM  :infile=lc_bg                                            ASC00022\n",
       "HISTORY  PARM  :filelist=none                                           ASC00023\n",
       "HISTORY  PARM  :operation=add                                           ASC00024\n",
       "HISTORY  PARM  :key=BACKSCAL                                            ASC00025\n",
       "HISTORY  PARM  :value=10                                                ASC00026\n",
       "HISTORY  PARM  :datatype=indef                                          ASC00027\n",
       "HISTORY  PARM  :unit=                                                   ASC00028\n",
       "HISTORY  PARM  :comment=                                                ASC00029\n",
       "HISTORY  PARM  :verbose=0                                               ASC00030"
      ]
     },
     "execution_count": 43,
     "metadata": {},
     "output_type": "execute_result"
    }
   ],
   "source": [
    "bg1[1].header"
   ]
  },
  {
   "cell_type": "code",
   "execution_count": 32,
   "id": "0c11cb33",
   "metadata": {},
   "outputs": [
    {
     "data": {
      "text/plain": [
       "<ErrorbarContainer object of 3 artists>"
      ]
     },
     "execution_count": 32,
     "metadata": {},
     "output_type": "execute_result"
    },
    {
     "data": {
      "image/png": "[encoded data removed]",
      "text/plain": [
       "<Figure size 1008x360 with 1 Axes>"
      ]
     },
     "metadata": {
      "needs_background": "light"
     },
     "output_type": "display_data"
    }
   ],
   "source": [
    "plt.errorbar(time, counts, yerr=error, marker='o', ls='none')"
   ]
  },
  {
   "cell_type": "code",
   "execution_count": 39,
   "id": "990440ff",
   "metadata": {},
   "outputs": [],
   "source": [
    "tfold = time/(1.1468*u.d.to(u.s)) % 1"
   ]
  },
  {
   "cell_type": "code",
   "execution_count": 40,
   "id": "865a979f",
   "metadata": {},
   "outputs": [
    {
     "data": {
      "text/plain": [
       "<ErrorbarContainer object of 3 artists>"
      ]
     },
     "execution_count": 40,
     "metadata": {},
     "output_type": "execute_result"
    },
    {
     "data": {
      "image/png": "[encoded data removed]",
      "text/plain": [
       "<Figure size 1008x360 with 1 Axes>"
      ]
     },
     "metadata": {
      "needs_background": "light"
     },
     "output_type": "display_data"
    }
   ],
   "source": [
    "plt.errorbar(tfold, counts, yerr=error, marker='o', ls='none')"
   ]
  },
  {
   "cell_type": "code",
   "execution_count": null,
   "id": "e59c1117",
   "metadata": {},
   "outputs": [],
   "source": []
  }
 ],
 "metadata": {
  "kernelspec": {
   "display_name": "Python 3",
   "language": "python",
   "name": "python3"
  },
  "language_info": {
   "codemirror_mode": {
    "name": "ipython",
    "version": 3
   },
   "file_extension": ".py",
   "mimetype": "text/x-python",
   "name": "python",
   "nbconvert_exporter": "python",
   "pygments_lexer": "ipython3",
   "version": "3.6.13"
  }
 },
 "nbformat": 4,
 "nbformat_minor": 5
}
